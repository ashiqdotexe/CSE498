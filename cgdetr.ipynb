{
 "cells": [
  {
   "cell_type": "code",
   "execution_count": 1,
   "metadata": {},
   "outputs": [],
   "source": [
    "dset_name = \"hl\"\n",
    "ctx_mode = \"video_tef\"\n",
    "v_feat_types = \"slowfast_clip\"\n",
    "t_feat_type = \"clip\"\n",
    "results_root = \"results\"\n",
    "exp_id = \"exp\""
   ]
  },
  {
   "cell_type": "code",
   "execution_count": 2,
   "metadata": {},
   "outputs": [],
   "source": [
    "train_path = \"data/highlight_train_release.jsonl\"\n",
    "eval_path = \"data/highlight_val_release.jsonl\"\n",
    "eval_split_name = \"val\"\n"
   ]
  },
  {
   "cell_type": "code",
   "execution_count": 3,
   "metadata": {},
   "outputs": [],
   "source": [
    "feat_root = \"../features/qvhighlight\""
   ]
  },
  {
   "cell_type": "code",
   "execution_count": 4,
   "metadata": {},
   "outputs": [],
   "source": [
    "# Initialize video feature info\n",
    "v_feat_dirs = []\n",
    "v_feat_dim = 0"
   ]
  },
  {
   "cell_type": "code",
   "execution_count": 5,
   "metadata": {},
   "outputs": [],
   "source": [
    "if \"slowfast\" in v_feat_types:\n",
    "    v_feat_dirs.append(f\"{feat_root}/slowfast_features\")\n",
    "    v_feat_dim += 2304"
   ]
  },
  {
   "cell_type": "code",
   "execution_count": 6,
   "metadata": {},
   "outputs": [],
   "source": [
    "if \"clip\" in v_feat_types:\n",
    "    v_feat_dirs.append(f\"{feat_root}/clip_features\")\n",
    "    v_feat_dim += 512"
   ]
  },
  {
   "cell_type": "code",
   "execution_count": 7,
   "metadata": {},
   "outputs": [],
   "source": [
    "# Text feature\n",
    "if t_feat_type == \"clip\":\n",
    "    t_feat_dir = f\"{feat_root}/clip_text_features/\"\n",
    "    t_feat_dim = 512\n",
    "else:\n",
    "    raise ValueError(\"Wrong arg for t_feat_type.\")"
   ]
  },
  {
   "cell_type": "code",
   "execution_count": 8,
   "metadata": {},
   "outputs": [],
   "source": [
    "# Step 2: Set training hyperparameters\n",
    "\n",
    "bsz = 32\n",
    "enc_layers = 3\n",
    "dec_layers = 3\n",
    "t2v_layers = 2\n",
    "moment_layers = 1\n",
    "dummy_layers = 2\n",
    "sent_layers = 1\n",
    "max_v_l = 75\n",
    "max_q_l = 32"
   ]
  },
  {
   "cell_type": "code",
   "execution_count": 9,
   "metadata": {},
   "outputs": [],
   "source": [
    "# Step 3: Construct command and run training\n",
    "\n",
    "import subprocess\n",
    "\n",
    "command = [\n",
    "    \"python\", \"cg_detr/train.py\",\n",
    "    \"--dset_name\", dset_name,\n",
    "    \"--ctx_mode\", ctx_mode,\n",
    "    \"--train_path\", train_path,\n",
    "    \"--eval_path\", eval_path,\n",
    "    \"--eval_split_name\", eval_split_name,\n",
    "    \"--v_feat_dim\", str(v_feat_dim),\n",
    "    \"--t_feat_dir\", t_feat_dir,\n",
    "    \"--t_feat_dim\", str(t_feat_dim),\n",
    "    \"--bsz\", str(bsz),\n",
    "    \"--results_root\", results_root,\n",
    "    \"--exp_id\", exp_id,\n",
    "    \"--enc_layers\", str(enc_layers),\n",
    "    \"--dec_layers\", str(dec_layers),\n",
    "    \"--t2v_layers\", str(t2v_layers),\n",
    "    \"--moment_layers\", str(moment_layers),\n",
    "    \"--dummy_layers\", str(dummy_layers),\n",
    "    \"--sent_layers\", str(sent_layers),\n",
    "    \"--max_v_l\", str(max_v_l),\n",
    "    \"--max_q_l\", str(max_q_l)\n",
    "]"
   ]
  },
  {
   "cell_type": "code",
   "execution_count": 10,
   "metadata": {},
   "outputs": [
    {
     "name": "stdout",
     "output_type": "stream",
     "text": [
      "Running command:\n",
      " python cg_detr/train.py --dset_name hl --ctx_mode video_tef --train_path data/highlight_train_release.jsonl --eval_path data/highlight_val_release.jsonl --eval_split_name val --v_feat_dim 2816 --t_feat_dir ../features/qvhighlight/clip_text_features/ --t_feat_dim 512 --bsz 32 --results_root results --exp_id exp --enc_layers 3 --dec_layers 3 --t2v_layers 2 --moment_layers 1 --dummy_layers 2 --sent_layers 1 --max_v_l 75 --max_q_l 32 --v_feat_dirs ../features/qvhighlight/slowfast_features --v_feat_dirs ../features/qvhighlight/clip_features\n"
     ]
    }
   ],
   "source": [
    "# Add multiple v_feat_dirs\n",
    "for v_dir in v_feat_dirs:\n",
    "    command.extend([\"--v_feat_dirs\", v_dir])\n",
    "\n",
    "# Optional: print the full command for debugging\n",
    "print(\"Running command:\\n\", \" \".join(command))"
   ]
  },
  {
   "cell_type": "code",
   "execution_count": 12,
   "metadata": {},
   "outputs": [
    {
     "name": "stdout",
     "output_type": "stream",
     "text": [
      "Requirement already satisfied: numpy in f:\\cg-detr\\cgdetr\\venv\\lib\\site-packages (2.2.4)\n"
     ]
    }
   ],
   "source": [
    "!pip install numpy"
   ]
  },
  {
   "cell_type": "code",
   "execution_count": 13,
   "metadata": {},
   "outputs": [
    {
     "name": "stdout",
     "output_type": "stream",
     "text": [
      "STDOUT:\n",
      " \n",
      "STDERR:\n",
      " Traceback (most recent call last):\n",
      "  File \"f:\\CG-Detr\\CGDETR\\cg_detr\\train.py\", line 6, in <module>\n",
      "    import numpy as np\n",
      "ModuleNotFoundError: No module named 'numpy'\n",
      "\n"
     ]
    }
   ],
   "source": [
    "# Step 4: Run the training script\n",
    "\n",
    "result = subprocess.run(command, capture_output=True, text=True)\n",
    "\n",
    "print(\"STDOUT:\\n\", result.stdout)\n",
    "print(\"STDERR:\\n\", result.stderr)"
   ]
  },
  {
   "cell_type": "code",
   "execution_count": null,
   "metadata": {},
   "outputs": [],
   "source": []
  }
 ],
 "metadata": {
  "kernelspec": {
   "display_name": "venv",
   "language": "python",
   "name": "python3"
  },
  "language_info": {
   "codemirror_mode": {
    "name": "ipython",
    "version": 3
   },
   "file_extension": ".py",
   "mimetype": "text/x-python",
   "name": "python",
   "nbconvert_exporter": "python",
   "pygments_lexer": "ipython3",
   "version": "3.10.6"
  }
 },
 "nbformat": 4,
 "nbformat_minor": 2
}
